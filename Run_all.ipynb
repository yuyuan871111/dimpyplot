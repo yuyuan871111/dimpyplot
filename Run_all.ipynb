{
 "cells": [
  {
   "cell_type": "code",
   "execution_count": 24,
   "metadata": {},
   "outputs": [],
   "source": [
    "import os\n",
    "import re\n",
    "from dimpyplot_chord import dimplot_chord"
   ]
  },
  {
   "cell_type": "markdown",
   "metadata": {},
   "source": [
    "## Test sample code"
   ]
  },
  {
   "cell_type": "code",
   "execution_count": null,
   "metadata": {},
   "outputs": [],
   "source": [
    "# dimpyplot_chord.py\n",
    "wkdir = './test_pdb'\n",
    "chain1 = 'A'\n",
    "chain2 = 'B'\n",
    "chain1_name = 'hACE2'\n",
    "chain2_name = 'S1RBD'\n",
    "pdb_name = '7a91_delta_npt_noPBC'\n",
    "\n",
    "try:\n",
    "    print(\"Dimplot calculation...\")\n",
    "    os.system(f\"python3 dimpyplot.py --wkdir {wkdir} --chain1 {chain1} --chain2 {chain2} --dimplot >> {wkdir}/run.log\")\n",
    "    \n",
    "    print(\"dimplot.hhb and dimplot.nnb preprocessing...\")\n",
    "    os.system(f\"python3 chord_preprocess.py -w {wkdir} -n {pdb_name} -c1 {chain1} -c2 {chain2} -c1n {chain1_name} -c2n {chain2_name} >> {wkdir}/run.log\")\n",
    "    \n",
    "    print(\"Chord diagram plotting...\")\n",
    "    os.system(f\"Rscript chord_rplot.r -w {wkdir} -n {pdb_name} >> {wkdir}/run.log\")\n",
    "    \n",
    "    print(\"____ complete ____\")\n",
    "\n",
    "except Exception as e:\n",
    "    print(e)\n"
   ]
  },
  {
   "cell_type": "markdown",
   "metadata": {},
   "source": [
    "## Batch process"
   ]
  },
  {
   "cell_type": "code",
   "execution_count": 25,
   "metadata": {},
   "outputs": [
    {
     "name": "stdout",
     "output_type": "stream",
     "text": [
      "Dimplot calculation...\n",
      "dimplot.hhb and dimplot.nnb preprocessing...\n",
      "Chord diagram plotting...\n",
      "____ complete ____\n",
      "Dimplot calculation...\n",
      "dimplot.hhb and dimplot.nnb preprocessing...\n",
      "Chord diagram plotting...\n",
      "____ complete ____\n",
      "Dimplot calculation...\n",
      "dimplot.hhb and dimplot.nnb preprocessing...\n",
      "Chord diagram plotting...\n",
      "____ complete ____\n",
      "Dimplot calculation...\n",
      "dimplot.hhb and dimplot.nnb preprocessing...\n",
      "Chord diagram plotting...\n",
      "____ complete ____\n",
      "Dimplot calculation...\n",
      "dimplot.hhb and dimplot.nnb preprocessing...\n",
      "Chord diagram plotting...\n",
      "____ complete ____\n",
      "Dimplot calculation...\n",
      "dimplot.hhb and dimplot.nnb preprocessing...\n",
      "Chord diagram plotting...\n",
      "____ complete ____\n",
      "Dimplot calculation...\n",
      "dimplot.hhb and dimplot.nnb preprocessing...\n",
      "Chord diagram plotting...\n",
      "____ complete ____\n",
      "Dimplot calculation...\n",
      "dimplot.hhb and dimplot.nnb preprocessing...\n",
      "Chord diagram plotting...\n",
      "____ complete ____\n",
      "Dimplot calculation...\n",
      "dimplot.hhb and dimplot.nnb preprocessing...\n",
      "Chord diagram plotting...\n",
      "____ complete ____\n",
      "Dimplot calculation...\n",
      "dimplot.hhb and dimplot.nnb preprocessing...\n",
      "Chord diagram plotting...\n",
      "____ complete ____\n",
      "Dimplot calculation...\n",
      "dimplot.hhb and dimplot.nnb preprocessing...\n",
      "Chord diagram plotting...\n",
      "____ complete ____\n",
      "Dimplot calculation...\n",
      "dimplot.hhb and dimplot.nnb preprocessing...\n",
      "Chord diagram plotting...\n",
      "____ complete ____\n",
      "Dimplot calculation...\n",
      "dimplot.hhb and dimplot.nnb preprocessing...\n",
      "Chord diagram plotting...\n",
      "____ complete ____\n",
      "Dimplot calculation...\n",
      "dimplot.hhb and dimplot.nnb preprocessing...\n",
      "Chord diagram plotting...\n",
      "____ complete ____\n",
      "Dimplot calculation...\n",
      "dimplot.hhb and dimplot.nnb preprocessing...\n",
      "Chord diagram plotting...\n",
      "____ complete ____\n",
      "Dimplot calculation...\n",
      "dimplot.hhb and dimplot.nnb preprocessing...\n",
      "Chord diagram plotting...\n",
      "____ complete ____\n",
      "Dimplot calculation...\n",
      "dimplot.hhb and dimplot.nnb preprocessing...\n",
      "Chord diagram plotting...\n",
      "____ complete ____\n",
      "Dimplot calculation...\n",
      "dimplot.hhb and dimplot.nnb preprocessing...\n",
      "Chord diagram plotting...\n",
      "____ complete ____\n"
     ]
    }
   ],
   "source": [
    "root_path = '/Users/yuyuan/Desktop/Work/CMDM_Lab/COVID19_Proj_toGitHub/metadata/md_results'\n",
    "nodes_path = ['6m0j/WT', '6m0j/alpha', '6m0j/beta', '6m0j/gamma', '6m0j/delta', '6m0j/deltaplus', '6m0j/epsilon', '6m0j/lambda', '6m0j/mu'] \n",
    "#nodes_path = ['7a91/WT', '7a91/alpha', '7a91/beta', '7a91/gamma', '7a91/delta', '7a91/deltaplus', '7a91/epsilon', '7a91/lambda', '7a91/mu'] \n",
    "#nodes_path = ['7mjn/alpha', '7v80/beta', '7v84/gamma', '7v8b/delta']\n",
    "chain1 = 'A'\n",
    "chain2 = 'B'\n",
    "chain1_name = 'hACE2'\n",
    "chain2_name = 'S1RBD'\n",
    "\n",
    "for each in nodes_path:\n",
    "    md_path = f'{root_path}/variants_{each}'\n",
    "    pdb_name_list = []\n",
    "    \n",
    "    # find pdb\n",
    "    for _ in os.listdir(md_path):\n",
    "        try: \n",
    "            m = re.search(\"^([A-Z|a-z|0-9|_]+)\\.pdb$\", _)\n",
    "            pdb_name_list.append(m.group(1))\n",
    "        except:\n",
    "            pass\n",
    "    \n",
    "    # process my data\n",
    "    if pdb_name_list != 0:\n",
    "        for pdb_name in pdb_name_list:\n",
    "            os.system(f\"mkdir -p {md_path}/{pdb_name}_dimplot\")\n",
    "            wkdir = f\"{md_path}/{pdb_name}_dimplot\"\n",
    "            os.system(f\"cp {wkdir}/../{pdb_name}.pdb {wkdir}/.\")\n",
    "\n",
    "            dimplot_chord(wkdir, pdb_name, chain1, chain2, chain1_name, chain2_name)\n",
    "\n"
   ]
  },
  {
   "cell_type": "markdown",
   "metadata": {},
   "source": [
    "## Backup results"
   ]
  },
  {
   "cell_type": "code",
   "execution_count": 23,
   "metadata": {},
   "outputs": [],
   "source": [
    "root_path = '/Users/yuyuan/Desktop/Work/CMDM_Lab/COVID19_Proj_toGitHub/metadata/md_results'\n",
    "\n",
    "nodes_path = ['6m0j/WT', '6m0j/alpha', '6m0j/beta', '6m0j/gamma', '6m0j/delta', '6m0j/deltaplus', '6m0j/epsilon', '6m0j/lambda', '6m0j/mu'] \n",
    "nodes_path = nodes_path + ['7a91/WT', '7a91/alpha', '7a91/beta', '7a91/gamma', '7a91/delta', '7a91/deltaplus', '7a91/epsilon', '7a91/lambda', '7a91/mu'] \n",
    "nodes_path = nodes_path + ['7mjn/alpha', '7v80/beta', '7v84/gamma', '7v8b/delta']\n",
    "\n",
    "pdb_name_list = []\n",
    "for i in nodes_path:\n",
    "    pdb_name_list.append( re.sub('/', '_', i) )\n",
    "\n",
    "for each, pdb_name in zip(nodes_path, pdb_name_list):\n",
    "    md_path = f'{root_path}/variants_{each}'\n",
    "\n",
    "    for dimplot_path in [f'{root_path}/variants_{each}/{pdb_name}_beforeMD_dimplot', f'{root_path}/variants_{each}/{pdb_name}_afterMD_dimplot']:\n",
    "        os.system(f\"cp -r {dimplot_path} /Users/yuyuan/Desktop/Work/CMDM_Lab/COVID19_Proj/dimplot_backup/.\")\n",
    "       "
   ]
  },
  {
   "cell_type": "code",
   "execution_count": 13,
   "metadata": {},
   "outputs": [],
   "source": []
  },
  {
   "cell_type": "code",
   "execution_count": null,
   "metadata": {},
   "outputs": [],
   "source": []
  }
 ],
 "metadata": {
  "interpreter": {
   "hash": "3067ead486e059ec00ffe7555bdb889e6e264a24dc711bf108106cc7baee8d5d"
  },
  "kernelspec": {
   "display_name": "Python 3.7.7 64-bit ('base': conda)",
   "language": "python",
   "name": "python3"
  },
  "language_info": {
   "codemirror_mode": {
    "name": "ipython",
    "version": 3
   },
   "file_extension": ".py",
   "mimetype": "text/x-python",
   "name": "python",
   "nbconvert_exporter": "python",
   "pygments_lexer": "ipython3",
   "version": "3.7.7"
  },
  "orig_nbformat": 4
 },
 "nbformat": 4,
 "nbformat_minor": 2
}
